{
 "cells": [
  {
   "cell_type": "markdown",
   "metadata": {},
   "source": [
    "I will do a mix of scraping and manual filling to better complete https://pt.wikipedia.org/wiki/Lista_de_mortos_e_desaparecidos_pol%C3%ADticos_na_ditadura_militar_brasileira"
   ]
  },
  {
   "cell_type": "markdown",
   "metadata": {},
   "source": [
    "For starters, I will focus on filling info about Nilda Carvalho Cunha (https://www.wikidata.org/wiki/Q63069755). \n",
    "\n",
    "The gold standard will be https://www.wikidata.org/wiki/Q9602374\n"
   ]
  },
  {
   "cell_type": "markdown",
   "metadata": {},
   "source": [
    "# Source 1\n",
    "First I will fill the info based on \n",
    "http://www.desaparecidospoliticos.org.br/pessoa.php?id=144\n",
    "\n",
    "Gender:\n",
    "Q63069755|P21|Q6581072\n",
    "\n",
    "Date of death:\n",
    "Q63069755|P570|+1971-11-14T00:00:00Z/11|S854|\"http://www.desaparecidospoliticos.org.br/pessoa.php?id=144\"|S813|+2019-09-10T00:00:00Z/11\n",
    "\n",
    "Place of death (Salvador):\n",
    "Q63069755|P20|Q36947|S854|\"http://www.desaparecidospoliticos.org.br/pessoa.php?id=144\"|S813|+2019-09-10T00:00:00Z/11\n",
    "\n",
    "Occupation (high-school student):\n",
    "Q63069755|P106|Q16517586|S854|\"http://www.desaparecidospoliticos.org.br/pessoa.php?id=144\"|S813|+2019-09-10T00:00:00Z/11\n",
    "\n",
    "Cause of death (poisoning):\n",
    "Q63069755|P509|Q114953|S854|\"http://www.desaparecidospoliticos.org.br/pessoa.php?id=144\"|S813|+2019-09-10T00:00:00Z/11\n",
    "\n",
    "This info seems generally scrapable."
   ]
  },
  {
   "cell_type": "markdown",
   "metadata": {},
   "source": [
    "# Source 2\n",
    "Fromv http://memoriasdaditadura.org.br/memorial/nilda-carvalho-cunha/ it does not seem that easy. However, the information seems more complete and less biased here.\n",
    "\n",
    "It also has some extra information. \n",
    "Let's add the references:\n",
    "\n",
    "Date of birth:\n",
    "Q63069755|P569|+1954-07-05T00:00:00Z/11|S854|\"http://memoriasdaditadura.org.br/memorial/nilda-carvalho-cunha/\"|S813|+2019-09-10T00:00:00Z/11\n",
    "\n",
    "Place of birth:\n",
    "Q63069755|P19|Q194343|S854|\"http://memoriasdaditadura.org.br/memorial/nilda-carvalho-cunha/\"|S813|+2019-09-10T00:00:00Z/11\n",
    "\n",
    "Date of death:\n",
    "Q63069755|P570|+1971-11-14T00:00:00Z/11|S854|\"http://memoriasdaditadura.org.br/memorial/nilda-carvalho-cunha/\"|S813|+2019-09-10T00:00:00Z/11\n",
    "\n",
    "Place of death (Salvador):\n",
    "Q63069755|P20|Q36947|S854|\"http://memoriasdaditadura.org.br/memorial/nilda-carvalho-cunha/\"|S813|+2019-09-10T00:00:00Z/11\n",
    "\n",
    "Occupation (high-school student and bank teller):\n",
    "Q63069755|P106|Q16517586|S854|\"http://memoriasdaditadura.org.br/memorial/nilda-carvalho-cunha/\"|S813|+2019-09-10T00:00:00Z/11\n",
    "Q63069755|P106|Q806805|S854|\"http://memoriasdaditadura.org.br/memorial/nilda-carvalho-cunha/\"|S813|+2019-09-10T00:00:00Z/11\n",
    "\n",
    "Cause of death (cerebral edema):\n",
    "Q63069755|P509|Q979168|S854|\"http://memoriasdaditadura.org.br/memorial/nilda-carvalho-cunha/\"|S813|+2019-09-10T00:00:00Z/11\n",
    "\n",
    "Mother:\n",
    "Q63069755|P25|Q63069629|S854|\"http://memoriasdaditadura.org.br/memorial/nilda-carvalho-cunha/\"|S813|+2019-09-10T00:00:00Z/11\n",
    "\n",
    "Father:\n",
    "Q63069755|P22|\"Tibúrcio Alves Cunha\"|S854|\"http://memoriasdaditadura.org.br/memorial/nilda-carvalho-cunha/\"|S813|+2019-09-10T00:00:00Z/11\n",
    "\n"
   ]
  },
  {
   "cell_type": "markdown",
   "metadata": {},
   "source": [
    "# Source 3\n",
    "\n",
    "https://cemdp.sdh.gov.br/modules/desaparecidos/acervo/ficha/cid/338\n",
    "\n",
    "Date of birth:\n",
    "Q63069755|P569|+1954-07-05T00:00:00Z/11|S854|\"https://cemdp.sdh.gov.br/modules/desaparecidos/acervo/ficha/cid/338\"|S813|+2019-09-10T00:00:00Z/11\n",
    "\n",
    "Place of birth:\n",
    "Q63069755|P19|Q194343|S854|\"https://cemdp.sdh.gov.br/modules/desaparecidos/acervo/ficha/cid/338\"|S813|+2019-09-10T00:00:00Z/11\n",
    "\n",
    "Date of death:\n",
    "Q63069755|P570|+1971-11-14T00:00:00Z/11|S854|\"https://cemdp.sdh.gov.br/modules/desaparecidos/acervo/ficha/cid/338\"|S813|+2019-09-10T00:00:00Z/11\n",
    "\n",
    "Place of death (Salvador):\n",
    "Q63069755|P20|Q36947|S854|\"https://cemdp.sdh.gov.br/modules/desaparecidos/acervo/ficha/cid/338\"|S813|+2019-09-10T00:00:00Z/11\n",
    "\n",
    "Occupation (high-school student and bank teller):\n",
    "Q63069755|P106|Q16517586|S854|\"https://cemdp.sdh.gov.br/modules/desaparecidos/acervo/ficha/cid/338\"|S813|+2019-09-10T00:00:00Z/11\n",
    "Q63069755|P106|Q806805|S854|\"https://cemdp.sdh.gov.br/modules/desaparecidos/acervo/ficha/cid/338\"|S813|+2019-09-10T00:00:00Z/11\n",
    "\n",
    "Cause of death (cerebral edema):\n",
    "Q63069755|P509|Q979168|S854|\"https://cemdp.sdh.gov.br/modules/desaparecidos/acervo/ficha/cid/338\"|S813|+2019-09-10T00:00:00Z/11\n",
    "\n",
    "Mother (\"Esmeraldina Carvalho Cunha\"):\n",
    "Q63069755|P25|Q63069629|S854|\"https://cemdp.sdh.gov.br/modules/desaparecidos/acervo/ficha/cid/338\"|S813|+2019-09-10T00:00:00Z/11\n",
    "\n",
    "Father:\n",
    "Q63069755|P22|\"Tibúrcio Alves Cunha\"|S854|\"https://cemdp.sdh.gov.br/modules/desaparecidos/acervo/ficha/cid/338\"|S813|+2019-09-10T00:00:00Z/11"
   ]
  },
  {
   "cell_type": "markdown",
   "metadata": {},
   "source": [
    "While looking at the files, I found out that her mother was also killed in the military dictatorship. I will update her file now."
   ]
  },
  {
   "cell_type": "markdown",
   "metadata": {},
   "source": [
    "Esmeraldina Carvalho Cunha\n",
    "https://cemdp.sdh.gov.br/modules/desaparecidos/acervo/ficha/cid/223\n",
    "\n",
    "Date of birth (it should be deprecated):\n",
    "Q63069629|P569|+1992-04-01T00:00:00Z/11|S854|\"https://cemdp.sdh.gov.br/modules/desaparecidos/acervo/ficha/cid/223\"|S813|+2019-09-10T00:00:00Z/11\n",
    "\n",
    "Place of birth (Araci):\n",
    "Q63069629|P19|Q22063188|S854|\"https://cemdp.sdh.gov.br/modules/desaparecidos/acervo/ficha/cid/223\"|S813|+2019-09-10T00:00:00Z/11\n",
    "\n",
    "Date of death:\n",
    "Q63069629|P570|+1972-10-20T00:00:00Z/11|S854|\"https://cemdp.sdh.gov.br/modules/desaparecidos/acervo/ficha/cid/223\"|S813|+2019-09-10T00:00:00Z/11\n",
    "\n",
    "Place of death (Salvador):\n",
    "Q63069629|P20|Q36947|S854|\"https://cemdp.sdh.gov.br/modules/desaparecidos/acervo/ficha/cid/223\"|S813|+2019-09-10T00:00:00Z/11\n",
    "\n",
    "\n",
    "Manner of death (alledged suicide and homicide):\n",
    "Q63069629|P509|Q67222672|S854|\"https://cemdp.sdh.gov.br/modules/desaparecidos/acervo/ficha/cid/223\"|S813|+2019-09-10T00:00:00Z/11\n",
    "Q63069629|P509|Q149086|S854|\"https://cemdp.sdh.gov.br/modules/desaparecidos/acervo/ficha/cid/223\"|S813|+2019-09-10T00:00:00Z/11\n",
    "\n",
    "Daughter:\n",
    "Q63069629|P40|Q63069755|S854|\"https://cemdp.sdh.gov.br/modules/desaparecidos/acervo/ficha/cid/223\"|S813|+2019-09-10T00:00:00Z/11\n",
    "\n"
   ]
  },
  {
   "cell_type": "markdown",
   "metadata": {},
   "source": [
    "Esmeraldina Carvalho Cunha\n",
    "http://memoriasdaditadura.org.br/memorial/esmeraldina-carvalho-cunha/\n",
    "\n",
    "Date of birth :\n",
    "Q63069629|P569|+1922-04-01T00:00:00Z/11|S854|\"http://memoriasdaditadura.org.br/memorial/esmeraldina-carvalho-cunha/\"|S813|+2019-09-10T00:00:00Z/11\n",
    "\n",
    "Place of birth (Araci):\n",
    "Q63069629|P19|Q22063188|S854|\"http://memoriasdaditadura.org.br/memorial/esmeraldina-carvalho-cunha/\"|S813|+2019-09-10T00:00:00Z/11\n",
    "\n",
    "Date of death:\n",
    "Q63069629|P570|+1972-10-20T00:00:00Z/11|S854|\"http://memoriasdaditadura.org.br/memorial/esmeraldina-carvalho-cunha/\"|S813|+2019-09-10T00:00:00Z/11\n",
    "\n",
    "Place of death (Salvador):\n",
    "Q63069629|P20|Q36947|S854|\"http://memoriasdaditadura.org.br/memorial/esmeraldina-carvalho-cunha/\"|S813|+2019-09-10T00:00:00Z/11\n",
    "\n",
    "Occupation (homekeeper): Q63069629|P106|Q1934684|S854|\"http://memoriasdaditadura.org.br/memorial/esmeraldina-carvalho-cunha/\"|S813|+2019-09-10T00:00:00Z/11\n",
    "\n",
    "Manner of death (alledged suicide and homicide):\n",
    "Q63069629|P509|Q67222672|S854|\"http://memoriasdaditadura.org.br/memorial/esmeraldina-carvalho-cunha/\"|S813|+2019-09-10T00:00:00Z/11\n",
    "Q63069629|P509|Q149086|S854|\"http://memoriasdaditadura.org.br/memorial/esmeraldina-carvalho-cunha/\"|S813|+2019-09-10T00:00:00Z/11\n",
    "\n",
    "Daughter:\n",
    "Q63069629|P40|Q63069755|S854|\"http://memoriasdaditadura.org.br/memorial/esmeraldina-carvalho-cunha/\"|S813|+2019-09-10T00:00:00Z/11\n"
   ]
  }
 ],
 "metadata": {
  "kernelspec": {
   "display_name": "Python 3",
   "language": "python",
   "name": "python3"
  },
  "language_info": {
   "codemirror_mode": {
    "name": "ipython",
    "version": 3
   },
   "file_extension": ".py",
   "mimetype": "text/x-python",
   "name": "python",
   "nbconvert_exporter": "python",
   "pygments_lexer": "ipython3",
   "version": "3.7.3"
  }
 },
 "nbformat": 4,
 "nbformat_minor": 4
}
