{
 "cells": [
  {
   "cell_type": "markdown",
   "metadata": {},
   "source": [
    "Now let's try and scrape using selenium.\n",
    "First goal will be to scrape https://cemdp.sdh.gov.br/modules/desaparecidos/acervo/ficha/cid/8. Just the birth date."
   ]
  },
  {
   "cell_type": "code",
   "execution_count": 1,
   "metadata": {},
   "outputs": [],
   "source": [
    "#Importing packages\n",
    "from selenium import webdriver\n",
    "import pandas as pd"
   ]
  },
  {
   "cell_type": "code",
   "execution_count": 3,
   "metadata": {},
   "outputs": [],
   "source": [
    "driver = webdriver.Chrome(\"/home/lubianat/Downloads/chromedriver\")"
   ]
  },
  {
   "cell_type": "code",
   "execution_count": 16,
   "metadata": {},
   "outputs": [],
   "source": [
    "url = 'https://cemdp.sdh.gov.br/modules/desaparecidos/acervo/ficha/cid/8'\n",
    "\n",
    "driver.get(url)"
   ]
  },
  {
   "cell_type": "code",
   "execution_count": 8,
   "metadata": {},
   "outputs": [],
   "source": [
    "userid_element = driver.find_elements_by_xpath('//*[@id=\"tabs-1\"]/div/div[4]')[0]\n",
    "userid = userid_element.text"
   ]
  },
  {
   "cell_type": "code",
   "execution_count": 9,
   "metadata": {},
   "outputs": [
    {
     "name": "stdout",
     "output_type": "stream",
     "text": [
      "Data de Nascimento\n",
      "12/04/1945\n"
     ]
    }
   ],
   "source": [
    "print(userid)"
   ]
  },
  {
   "cell_type": "code",
   "execution_count": 10,
   "metadata": {},
   "outputs": [],
   "source": [
    "#Nice!"
   ]
  },
  {
   "cell_type": "code",
   "execution_count": 17,
   "metadata": {},
   "outputs": [],
   "source": [
    "data = userid.split()[-1]"
   ]
  },
  {
   "cell_type": "markdown",
   "metadata": {},
   "source": [
    "Now we need to convert to the wikidata format. \n",
    "\n",
    "Q63069755|P569|+1954-07-05T00:00:00Z/11|S854|\"http://memoriasdaditadura.org.br/memorial/nilda-carvalho-cunha/\"|S813|+2019-09-10T00:00:00Z/11\n"
   ]
  },
  {
   "cell_type": "code",
   "execution_count": 33,
   "metadata": {},
   "outputs": [
    {
     "name": "stdout",
     "output_type": "stream",
     "text": [
      "Q63069586|P569|+1945-04-12T00:00:00Z/11|S854|\"https://cemdp.sdh.gov.br/modules/desaparecidos/acervo/ficha/cid/8\"|S813|+2019-09-15T00:00:00Z/11\n"
     ]
    }
   ],
   "source": [
    "qid = 'Q63069586'\n",
    "import datetime\n",
    "\n",
    "split_date = data.split(\"/\")\n",
    "now = datetime.datetime.now()\n",
    "print(qid + \"|P569|\" + \"+\" + split_date[2] + \"-\" + split_date[1] + \"-\" + split_date[0]+ \"T00:00:00Z/11|S854|\" + '\"' +url + '\"' +\"|S813|+\"+str(now.year) +\"-0\" + str(now.month) + \"-\" + str(now.day) + \"T00:00:00Z/11\")"
   ]
  },
  {
   "cell_type": "code",
   "execution_count": 26,
   "metadata": {},
   "outputs": [
    {
     "data": {
      "text/plain": [
       "2019"
      ]
     },
     "execution_count": 26,
     "metadata": {},
     "output_type": "execute_result"
    }
   ],
   "source": [
    "now.year"
   ]
  },
  {
   "cell_type": "code",
   "execution_count": 27,
   "metadata": {},
   "outputs": [
    {
     "data": {
      "text/plain": [
       "9"
      ]
     },
     "execution_count": 27,
     "metadata": {},
     "output_type": "execute_result"
    }
   ],
   "source": [
    "now.month"
   ]
  },
  {
   "cell_type": "code",
   "execution_count": 28,
   "metadata": {},
   "outputs": [
    {
     "data": {
      "text/plain": [
       "15"
      ]
     },
     "execution_count": 28,
     "metadata": {},
     "output_type": "execute_result"
    }
   ],
   "source": [
    "now.day\n"
   ]
  },
  {
   "cell_type": "code",
   "execution_count": null,
   "metadata": {},
   "outputs": [],
   "source": []
  }
 ],
 "metadata": {
  "kernelspec": {
   "display_name": "Python 3",
   "language": "python",
   "name": "python3"
  },
  "language_info": {
   "codemirror_mode": {
    "name": "ipython",
    "version": 3
   },
   "file_extension": ".py",
   "mimetype": "text/x-python",
   "name": "python",
   "nbconvert_exporter": "python",
   "pygments_lexer": "ipython3",
   "version": "3.6.8"
  }
 },
 "nbformat": 4,
 "nbformat_minor": 4
}
