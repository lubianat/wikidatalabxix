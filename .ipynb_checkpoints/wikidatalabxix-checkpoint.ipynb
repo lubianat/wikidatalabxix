{
 "cells": [
  {
   "cell_type": "markdown",
   "metadata": {},
   "source": [
    "I will do a mix of scraping and manual filling to better complete https://pt.wikipedia.org/wiki/Lista_de_mortos_e_desaparecidos_pol%C3%ADticos_na_ditadura_militar_brasileira"
   ]
  },
  {
   "cell_type": "markdown",
   "metadata": {},
   "source": [
    "For starters, I will focus on filling info about Nilda Carvalho Cunha (https://www.wikidata.org/wiki/Q63069755). \n",
    "\n",
    "The gold standard will be https://www.wikidata.org/wiki/Q9602374\n"
   ]
  },
  {
   "cell_type": "markdown",
   "metadata": {},
   "source": [
    "First I will fill the info based on \n",
    "http://www.desaparecidospoliticos.org.br/pessoa.php?id=144\n",
    "\n",
    "Gender:\n",
    "Q63069755|P21|Q6581072\n",
    "\n",
    "Date of death:\n",
    "Q63069755|P570|+1971-11-14T00:00:00Z/11|S854|\"http://www.desaparecidospoliticos.org.br/pessoa.php?id=144\"|S813|+2019-09-10T00:00:00Z/11\n",
    "\n",
    "Place of death (Salvador):\n",
    "Q63069755|P20|Q36947|S854|\"http://www.desaparecidospoliticos.org.br/pessoa.php?id=144\"|S813|+2019-09-10T00:00:00Z/11\n",
    "\n",
    "Occupation (high-school student):\n",
    "Q63069755|P106|Q16517586|S854|\"http://www.desaparecidospoliticos.org.br/pessoa.php?id=144\"|S813|+2019-09-10T00:00:00Z/11\n",
    "\n",
    "Cause of death (poisoning):\n",
    "Q63069755|P509|Q114953|S854|\"http://www.desaparecidospoliticos.org.br/pessoa.php?id=144\"|S813|+2019-09-10T00:00:00Z/11\n",
    "\n",
    "This info seems generally scrapable."
   ]
  },
  {
   "cell_type": "markdown",
   "metadata": {},
   "source": [
    "Fromv http://memoriasdaditadura.org.br/memorial/nilda-carvalho-cunha/ it does not seem that easy. \n",
    "\n",
    "It also has some extra information. \n",
    "Let's add the references:\n",
    "\n",
    "Date of death:\n",
    "Q63069755|P570|+1971-11-14T00:00:00Z/11|S854|\"http://memoriasdaditadura.org.br/memorial/nilda-carvalho-cunha/\"|S813|+2019-09-10T00:00:00Z/11\n",
    "\n",
    "Place of death (Salvador):\n",
    "Q63069755|P20|Q36947|S854|\"http://memoriasdaditadura.org.br/memorial/nilda-carvalho-cunha/\"|S813|+2019-09-10T00:00:00Z/11\n",
    "\n",
    "Occupation (high-school student and bank teller):\n",
    "Q63069755|P106|Q16517586|S854|\"http://memoriasdaditadura.org.br/memorial/nilda-carvalho-cunha/\"|S813|+2019-09-10T00:00:00Z/11\n",
    "Q63069755|P106|Q806805|S854|\"http://memoriasdaditadura.org.br/memorial/nilda-carvalho-cunha/\"|S813|+2019-09-10T00:00:00Z/11\n",
    "\n",
    "Cause of death (poisoning):\n",
    "Q63069755|P509|Q114953|S854|\"http://memoriasdaditadura.org.br/memorial/nilda-carvalho-cunha/\"|S813|+2019-09-10T00:00:00Z/11\n"
   ]
  },
  {
   "cell_type": "code",
   "execution_count": null,
   "metadata": {},
   "outputs": [],
   "source": []
  },
  {
   "cell_type": "code",
   "execution_count": null,
   "metadata": {},
   "outputs": [],
   "source": []
  }
 ],
 "metadata": {
  "kernelspec": {
   "display_name": "Python 3",
   "language": "python",
   "name": "python3"
  },
  "language_info": {
   "codemirror_mode": {
    "name": "ipython",
    "version": 3
   },
   "file_extension": ".py",
   "mimetype": "text/x-python",
   "name": "python",
   "nbconvert_exporter": "python",
   "pygments_lexer": "ipython3",
   "version": "3.7.3"
  }
 },
 "nbformat": 4,
 "nbformat_minor": 4
}
